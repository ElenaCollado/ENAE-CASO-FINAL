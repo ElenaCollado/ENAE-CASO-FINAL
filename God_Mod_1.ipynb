{
  "nbformat": 4,
  "nbformat_minor": 0,
  "metadata": {
    "colab": {
      "provenance": []
    },
    "kernelspec": {
      "name": "python3",
      "display_name": "Python 3"
    },
    "language_info": {
      "name": "python"
    }
  },
  "cells": [
    {
      "cell_type": "code",
      "execution_count": 54,
      "metadata": {
        "id": "49ng6WE-gS2G"
      },
      "outputs": [],
      "source": [
        "\"Crear lista para números primos\"\n",
        "Lista_primos = []"
      ]
    },
    {
      "cell_type": "code",
      "source": [
        "\"Definición de la función primo\"\n",
        "def is_prime(y):\n",
        "  for x in range(2,y):\n",
        "    if y%x == 0:\n",
        "      result = False\n",
        "      break\n",
        "  if y == x + 1:\n",
        "      result = True \n",
        "  return result\n",
        "is_prime(5)"
      ],
      "metadata": {
        "colab": {
          "base_uri": "https://localhost:8080/"
        },
        "id": "AcfNKlzKmPop",
        "outputId": "2d4ff5f8-5c20-4da0-9b02-017949df492e"
      },
      "execution_count": 148,
      "outputs": [
        {
          "output_type": "execute_result",
          "data": {
            "text/plain": [
              "True"
            ]
          },
          "metadata": {},
          "execution_count": 148
        }
      ]
    },
    {
      "cell_type": "code",
      "source": [
        "\"funcion primos\"\n",
        "contador = 0\n",
        "last_prime = 1\n",
        "next_number = last_prime + 1\n",
        "print (2)\n",
        "\n",
        "while contador<74:\n",
        "  next_number = next_number + 1\n",
        "\n",
        "  if is_prime (next_number):\n",
        "\n",
        "    contador = contador + 1\n",
        "    last_prime = next_number\n",
        "    print (last_prime)\n"
      ],
      "metadata": {
        "id": "yhZrr8WuFrlE"
      },
      "execution_count": null,
      "outputs": []
    },
    {
      "cell_type": "code",
      "source": [
        "\"Crear lista de primos primos\"\n",
        "Lista_primos.append(last_prime)"
      ],
      "metadata": {
        "id": "OPDHg0Z1HSPo"
      },
      "execution_count": 156,
      "outputs": []
    },
    {
      "cell_type": "code",
      "source": [
        "from numpy import linspace\n",
        "from pandas import DataFrame \n",
        "import pandas as pd\n",
        "\n",
        "Conjetura = pd.DataFrame()\n",
        "Conjetura[\"Primos\"] = Lista_primos\n",
        "print (Conjetura)"
      ],
      "metadata": {
        "colab": {
          "base_uri": "https://localhost:8080/"
        },
        "id": "GnfPJv27rums",
        "outputId": "28472dc3-ba66-435e-82db-474ba6d744f1"
      },
      "execution_count": 157,
      "outputs": [
        {
          "output_type": "stream",
          "name": "stdout",
          "text": [
            "     Primos\n",
            "0         1\n",
            "1         2\n",
            "2         3\n",
            "3         5\n",
            "4         7\n",
            "..      ...\n",
            "338     367\n",
            "339     373\n",
            "340     379\n",
            "341     367\n",
            "342       1\n",
            "\n",
            "[343 rows x 1 columns]\n"
          ]
        }
      ]
    },
    {
      "cell_type": "code",
      "source": [
        "\"Producto de sus dígitos\"\n",
        "\n",
        "from pandas import DataFrame \n",
        "import pandas as pd\n",
        "Lista_producto = []\n",
        "producto = 1\n",
        "for numero in Lista_primos:\n",
        "  while numero != 0:\n",
        "    digito = numero % 10\n",
        "    producto = producto*digito\n",
        "    numero //= 10\n",
        "  Lista_producto.append(producto)\n",
        "  producto = 1\n",
        "\n",
        "Conjetura['Producto']= Lista_producto\n",
        "print (Conjetura)\n"
      ],
      "metadata": {
        "colab": {
          "base_uri": "https://localhost:8080/"
        },
        "id": "xJJzU9kqmz9U",
        "outputId": "49983842-4cc7-415e-8faa-9862bbd5c358"
      },
      "execution_count": 152,
      "outputs": [
        {
          "output_type": "stream",
          "name": "stdout",
          "text": [
            "     Primos  Producto\n",
            "0         1         1\n",
            "1         2         2\n",
            "2         3         3\n",
            "3         5         5\n",
            "4         7         7\n",
            "..      ...       ...\n",
            "337     359       135\n",
            "338     367       126\n",
            "339     373        63\n",
            "340     379       189\n",
            "341     367       126\n",
            "\n",
            "[342 rows x 2 columns]\n"
          ]
        }
      ]
    },
    {
      "cell_type": "code",
      "source": [
        "\"Obtener el espejo del número primo\"\n",
        "import pandas as pd\n",
        "\n",
        "lista_espejo = []\n",
        "reverso = 0\n",
        "for n in Lista_primos:\n",
        "  while n!=0:\n",
        "    cifra = n%10\n",
        "    reverso = reverso *10 + cifra\n",
        "    n = n//10\n",
        "  lista_espejo.append(reverso)\n",
        "  reverso = 0\n",
        "\n",
        "Conjetura[\"Espejo\"] = lista_espejo\n",
        "\n",
        "print(Conjetura)"
      ],
      "metadata": {
        "colab": {
          "base_uri": "https://localhost:8080/"
        },
        "id": "qWYSMbPspOIf",
        "outputId": "8849d621-7d13-452d-b874-1bbcb16f1fa8"
      },
      "execution_count": 153,
      "outputs": [
        {
          "output_type": "stream",
          "name": "stdout",
          "text": [
            "     Primos  Producto  Espejo\n",
            "0         1         1       1\n",
            "1         2         2       2\n",
            "2         3         3       3\n",
            "3         5         5       5\n",
            "4         7         7       7\n",
            "..      ...       ...     ...\n",
            "337     359       135     953\n",
            "338     367       126     763\n",
            "339     373        63     373\n",
            "340     379       189     973\n",
            "341     367       126     763\n",
            "\n",
            "[342 rows x 3 columns]\n"
          ]
        }
      ]
    }
  ]
}